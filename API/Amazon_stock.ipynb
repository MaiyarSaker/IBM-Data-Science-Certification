{
 "cells": [
  {
   "cell_type": "code",
   "execution_count": null,
   "id": "03524067-8696-4e98-be0e-f109aeaf51d0",
   "metadata": {},
   "outputs": [],
   "source": [
    "url = \"https://cf-courses-data.s3.us.cloud-object-storage.appdomain.cloud/IBMDeveloperSkillsNetwork-PY0220EN-SkillsNetwork/labs/project/amazon_data_webpage.html\"\n",
    "data = requests.get(url).text"
   ]
  },
  {
   "cell_type": "code",
   "execution_count": null,
   "id": "cea97653-c7d7-4db8-b508-a7d050460601",
   "metadata": {},
   "outputs": [],
   "source": [
    "soup = BeautifulSoup(data, 'html.parser')"
   ]
  },
  {
   "cell_type": "markdown",
   "id": "d81a340d-71ea-48f6-bd45-5f4a51300114",
   "metadata": {},
   "source": [
    "Question 1: What is the content of the title attribute?"
   ]
  },
  {
   "cell_type": "code",
   "execution_count": null,
   "id": "35568ec7-2414-401d-8378-2c749bb81ae9",
   "metadata": {},
   "outputs": [],
   "source": [
    "soup.title"
   ]
  },
  {
   "cell_type": "markdown",
   "id": "c8cb4da8-8ecd-4971-a1bd-0bfc4649693c",
   "metadata": {},
   "source": [
    "Using BeautifulSoup, extract the table with historical share prices and store it into a data frame named amazon_data. The data frame should have columns Date, Open, High, Low, Close, Adj Close, and Volume. Fill in each variable with the correct data from the list col."
   ]
  },
  {
   "cell_type": "code",
   "execution_count": null,
   "id": "ba642eb6-b10c-4d37-a607-41994c160c71",
   "metadata": {},
   "outputs": [],
   "source": [
    "amazon_data = pd.DataFrame(columns = [\"Date\",\"Open\",\"High\",\"Low\",\"Close\",\"Volume\"])\n",
    "for row in soup.find('tbody').find_all(\"tr\") : #pour chaque ligne du tableau\n",
    "    col = row.find_all('td') #retourne une liste des cellules de la ligne\n",
    "    date = col[0].text \n",
    "    open = col[1].text\n",
    "    high = col[2].text\n",
    "    low = col[3].text\n",
    "    close = col[4].text\n",
    "    volume = col[6].text\n",
    "\n",
    "    amazon_data = pd.concat([amazon_data,pd.DataFrame({\"Date\" : [date], \"Open\" : [open], \"High\" : [high], \"Low\" : [low], \"Close\" : [close], \"Volume\" : [volume]})])\n"
   ]
  },
  {
   "cell_type": "markdown",
   "id": "ae9cff4e-2738-40e0-a566-769580ea26d3",
   "metadata": {},
   "source": [
    "Print out the first five rows of the amazon_data data frame you created."
   ]
  },
  {
   "cell_type": "code",
   "execution_count": null,
   "id": "7c4d0e8d-3fbb-4051-963d-e44b598303fe",
   "metadata": {},
   "outputs": [],
   "source": [
    "amazon_data.head()"
   ]
  },
  {
   "cell_type": "markdown",
   "id": "d5cc4f47-404b-4bfc-a61c-54e9e2f279b7",
   "metadata": {},
   "source": [
    "Question 3: What is the Open of the last row of the amazon_data data frame?"
   ]
  },
  {
   "cell_type": "code",
   "execution_count": null,
   "id": "83b3e12c-8f72-4bdc-aed0-4bbdd5046ac2",
   "metadata": {},
   "outputs": [],
   "source": [
    "amazon_data.iloc[-1,:]"
   ]
  }
 ],
 "metadata": {
  "kernelspec": {
   "display_name": "Python 3 (ipykernel)",
   "language": "python",
   "name": "python3"
  },
  "language_info": {
   "codemirror_mode": {
    "name": "ipython",
    "version": 3
   },
   "file_extension": ".py",
   "mimetype": "text/x-python",
   "name": "python",
   "nbconvert_exporter": "python",
   "pygments_lexer": "ipython3",
   "version": "3.13.7"
  }
 },
 "nbformat": 4,
 "nbformat_minor": 5
}
